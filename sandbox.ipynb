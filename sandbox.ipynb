{
 "cells": [
  {
   "cell_type": "code",
   "execution_count": 5,
   "metadata": {},
   "outputs": [],
   "source": [
    "%matplotlib inline\n",
    "import numpy as np\n",
    "import matplotlib.pyplot as plt\n",
    "font = {'family':'IPAexGothic'}\n",
    "plt.rc('font', **font)"
   ]
  },
  {
   "cell_type": "code",
   "execution_count": 6,
   "metadata": {},
   "outputs": [],
   "source": [
    "# 回帰分析サンプルデータ\n",
    "# 25個の入力データ（アパートの広さ）\n",
    "X = np.array([4.5, 5, 4.5, 5.5, 5.8, 6, 7, 7, 7.2, 8, 8.2, 10, 11, 11.8, 12, 13, 13.5, 14, 14.2, 15, 15.2, 16, 17, 21, 23])\n",
    "# Xに対応する正解データ（家賃）\n",
    "y = np.array([3, 4, 10, 9, 11, 7, 4.5, 10, 13, 12, 11, 17, 15, 22, 14, 21, 14, 15, 16, 28, 30, 18, 20, 22, 26])"
   ]
  },
  {
   "cell_type": "code",
   "execution_count": 7,
   "metadata": {},
   "outputs": [
    {
     "data": {
      "image/png": "[encoded data removed]",
      "text/plain": [
       "<Figure size 432x288 with 1 Axes>"
      ]
     },
     "metadata": {
      "needs_background": "light"
     },
     "output_type": "display_data"
    }
   ],
   "source": [
    "plt.scatter(X, y) #散布図\n",
    "plt.show() #グラフを表示"
   ]
  },
  {
   "cell_type": "code",
   "execution_count": 53,
   "metadata": {},
   "outputs": [],
   "source": [
    "def the_steepest_descent(X, y, alpha=0.01, epochs=10000):\n",
    "    \"\"\"[summary]\n",
    "\n",
    "    Args:\n",
    "        X ([type]): [description]\n",
    "        y ([type]): [description]\n",
    "        alpha (float, optional): [description]. Defaults to 0.01.\n",
    "        epochs (int, optional): [description]. Defaults to 10000.\n",
    "\n",
    "    Returns:\n",
    "        [type]: [description]\n",
    "    \"\"\"\n",
    "    m = X.size\n",
    "    cost = []\n",
    "\n",
    "    # 更新パラメータ\n",
    "    a = 0\n",
    "    b = 0\n",
    "\n",
    "    for _ in range(epochs):\n",
    "        h = a*X + b\n",
    "        cost.append(1 / (2*m) * np.sum((h - y)**2))\n",
    "\n",
    "        a = a - alpha/m * np.sum((h - y)*X)\n",
    "        b = b - alpha/m * np.sum(h - y)\n",
    "    plt.plot(cost[10:])\n",
    "    print(f'a:{a}')\n",
    "    print(f'b:{b}')\n",
    "    return np.array([a, b])"
   ]
  },
  {
   "cell_type": "code",
   "execution_count": 54,
   "metadata": {},
   "outputs": [
    {
     "name": "stdout",
     "output_type": "stream",
     "text": [
      "a:1.1579791064745997\n",
      "b:2.1437021518920747\n"
     ]
    },
    {
     "data": {
      "image/png": "[encoded data removed]",
      "text/plain": [
       "<Figure size 432x288 with 1 Axes>"
      ]
     },
     "metadata": {
      "needs_background": "light"
     },
     "output_type": "display_data"
    }
   ],
   "source": [
    "h = the_steepest_descent(X, y)"
   ]
  },
  {
   "cell_type": "code",
   "execution_count": 52,
   "metadata": {},
   "outputs": [
    {
     "data": {
      "text/plain": [
       "numpy.ndarray"
      ]
     },
     "execution_count": 52,
     "metadata": {},
     "output_type": "execute_result"
    }
   ],
   "source": [
    "type(h)"
   ]
  },
  {
   "cell_type": "code",
   "execution_count": 71,
   "metadata": {},
   "outputs": [],
   "source": [
    "def out_minmax_plot(x):\n",
    "    if np.amin(x) < 0:\n",
    "        x_min = np.amin(x) * 1.1\n",
    "    else:\n",
    "        x_min = np.amin(x) * 0.5\n",
    "    if np.amax(x) < 0:\n",
    "        x_max = np.amax(x) * 0.5\n",
    "    else:\n",
    "        x_max = np.amax(x) * 1.1\n",
    "    return x_min, x_max\n",
    "\n",
    "def tow_axes_plot_temp(x, y, title=None, xlabel=None, ylabel=None):\n",
    "\n",
    "    x_min, x_max = out_minmax_plot(x)\n",
    "    y_min, y_max = out_minmax_plot(y)\n",
    "\n",
    "    plt.xlim([x_min, x_max])\n",
    "    plt.ylim([y_min, y_max])\n",
    "    if title:\n",
    "        plt.title(title)\n",
    "    if xlabel:\n",
    "        plt.xlabel(xlabel)\n",
    "    if ylabel:\n",
    "        plt.ylabel(ylabel)\n",
    "    plt.scatter(x, y, c='b')\n",
    "    plt.draw()"
   ]
  },
  {
   "cell_type": "code",
   "execution_count": 72,
   "metadata": {},
   "outputs": [
    {
     "data": {
      "image/png": "[encoded data removed]",
      "text/plain": [
       "<Figure size 432x288 with 1 Axes>"
      ]
     },
     "metadata": {
      "needs_background": "light"
     },
     "output_type": "display_data"
    }
   ],
   "source": [
    "tow_axes_plot_temp(X,y)"
   ]
  },
  {
   "cell_type": "code",
   "execution_count": null,
   "metadata": {},
   "outputs": [],
   "source": []
  },
  {
   "cell_type": "code",
   "execution_count": null,
   "metadata": {},
   "outputs": [],
   "source": []
  }
 ],
 "metadata": {
  "kernelspec": {
   "display_name": "Python 3",
   "language": "python",
   "name": "python3"
  },
  "language_info": {
   "codemirror_mode": {
    "name": "ipython",
    "version": 3
   },
   "file_extension": ".py",
   "mimetype": "text/x-python",
   "name": "python",
   "nbconvert_exporter": "python",
   "pygments_lexer": "ipython3",
   "version": "3.8.5"
  }
 },
 "nbformat": 4,
 "nbformat_minor": 4
}
